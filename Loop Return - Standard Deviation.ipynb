{
 "cells": [
  {
   "cell_type": "code",
   "execution_count": null,
   "id": "969633f5",
   "metadata": {},
   "outputs": [],
   "source": [
    "#list data type - never name list \"list\"\n",
    "\n",
    "test_scores =  [ 22, 99 , 102, 33, 57, 75, 100, 81, 62, 29 ]"
   ]
  },
  {
   "cell_type": "code",
   "execution_count": null,
   "id": "afe767dc",
   "metadata": {},
   "outputs": [],
   "source": []
  },
  {
   "cell_type": "code",
   "execution_count": null,
   "id": "65948c12",
   "metadata": {},
   "outputs": [],
   "source": [
    "\n",
    "def get_sum(num_list):\n",
    "    #for loop\n",
    "    sum = 0\n",
    "    #add each test score to run\n",
    "    #for loop that loops through list\n",
    "    for x in num_list:\n",
    "        sum = sum + x\n",
    "    return(sum)\n",
    "\n",
    "sum = get_sum(test_scores)\n",
    "print(sum)\n",
    "# #get n \n",
    "n = len(test_scores)\n",
    "#divide sum by n to get mean\n",
    "mean = sum/n\n",
    "print(mean)\n",
    "\n",
    "\n",
    "\n",
    "\n"
   ]
  },
  {
   "cell_type": "code",
   "execution_count": null,
   "id": "2d8ef289",
   "metadata": {},
   "outputs": [],
   "source": [
    "#initialize an empty list\n",
    "delta_mean_list = []\n",
    "for i in test_scores:\n",
    "    d_mean = i - mean\n",
    "    delta_mean_list.append(d_mean)\n",
    "\n",
    "print(delta_mean_list)"
   ]
  },
  {
   "cell_type": "code",
   "execution_count": null,
   "id": "20ba67bd",
   "metadata": {},
   "outputs": [],
   "source": [
    "delta_mean_squared_list = []\n",
    "for d_mean in delta_mean_list:\n",
    "    d_mean_sqrd = d_mean**2 #assign d_mean squared to variable\n",
    "    delta_mean_squared_list.append(d_mean_sqrd)\n",
    "print(delta_mean_squared_list)"
   ]
  },
  {
   "cell_type": "code",
   "execution_count": null,
   "id": "2e9c76c4",
   "metadata": {},
   "outputs": [],
   "source": [
    "delta_mean_squared_sum = get_sum(delta_mean_squared_list)\n",
    "print(delta_mean_squared_list)\n",
    "                            "
   ]
  },
  {
   "cell_type": "code",
   "execution_count": null,
   "id": "78d0e2a9",
   "metadata": {},
   "outputs": [],
   "source": [
    "import math\n",
    "variance = delta_mean_squared_sum/n\n",
    "standard_deviation = math.sqrt(variance)\n",
    "print(variance, standard_deviation)"
   ]
  },
  {
   "cell_type": "code",
   "execution_count": null,
   "id": "7592c06f",
   "metadata": {},
   "outputs": [],
   "source": [
    "#test_scores = test_scores.sort()\n",
    "import numpy as np\n",
    "test_scores = list(np.sort(test_scores))\n",
    "median_index = int(len(test_scores)/2)\n",
    "median = test_scores[median_index]\n",
    "print(median)"
   ]
  },
  {
   "cell_type": "code",
   "execution_count": 7,
   "id": "fc37af21",
   "metadata": {
    "scrolled": true
   },
   "outputs": [
    {
     "name": "stdout",
     "output_type": "stream",
     "text": [
      "(66.0, 28.875595231960155)\n",
      "(60.714285714285715, 35.08639898288232)\n"
     ]
    }
   ],
   "source": [
    "def get_sum(num_list):\n",
    "    #for loop\n",
    "    sum = 0\n",
    "    #add each test score to run\n",
    "    #for loop that loops through list\n",
    "    for x in num_list:\n",
    "        sum = sum + x\n",
    "    return(sum)\n",
    "\n",
    "test_scores =  [ 22, 99 , 102, 33, 57, 75, 100, 81, 62, 29 ]\n",
    "\n",
    "import math\n",
    "def do_homework(num_list):\n",
    "    #mean\n",
    "    sum = get_sum(num_list)\n",
    "    n = len(num_list)\n",
    "    mean = sum/n\n",
    "    #initialize an empty list\n",
    "    delta_mean_list = []\n",
    "    for i in test_scores:\n",
    "        d_mean = i - mean\n",
    "        delta_mean_list.append(d_mean)\n",
    "    delta_mean_squared_list = []\n",
    "    for d_mean in delta_mean_list:\n",
    "        d_mean_sqrd = d_mean**2 #assign d_mean squared to variable\n",
    "        delta_mean_squared_list.append(d_mean_sqrd)\n",
    "    delta_mean_squared_sum = get_sum(delta_mean_squared_list)\n",
    "    variance = delta_mean_squared_sum/n\n",
    "    standard_deviation = math.sqrt(variance)\n",
    "   \n",
    "    return mean, standard_deviation, \n",
    "\n",
    "    \n",
    "print(do_homework(test_scores))\n",
    "print(do_homework([ 35, 50, 60, 60, 75, 65, 80]))\n",
    "\n",
    "test_scores =  [ 22, 99 , 102, 33, 57, 75, 100, 81, 62, 29 ]\n",
    "\n",
    "    "
   ]
  },
  {
   "cell_type": "code",
   "execution_count": 1,
   "id": "32b7fa22",
   "metadata": {},
   "outputs": [
    {
     "data": {
      "text/plain": [
       "24192"
      ]
     },
     "execution_count": 1,
     "metadata": {},
     "output_type": "execute_result"
    }
   ],
   "source": [
    "new_list = [ 6, 7, 8, 9, 8 ]\n",
    "another_new_list = [ 1, 2, 3, 5]\n",
    "\n",
    "def get_product(of_list):\n",
    "    product = 1\n",
    "    for value in (of_list):\n",
    "        product = product*value\n",
    "    return(product)\n",
    "    print(product)\n",
    "    \n",
    "get_product(new_list)"
   ]
  },
  {
   "cell_type": "code",
   "execution_count": 16,
   "id": "55ba14c1",
   "metadata": {},
   "outputs": [
    {
     "name": "stdout",
     "output_type": "stream",
     "text": [
      "mean: 66.0\n",
      "median: \n",
      "SD: 68.5\n",
      "\n",
      "(0    66.0\n",
      "dtype: float64, 0    68.5\n",
      "dtype: float64, 0    28.875595\n",
      "dtype: float64)\n",
      "mean: 44.0\n",
      "median: \n",
      "SD: 44.0\n",
      "\n",
      "mean: 7.2\n",
      "median: \n",
      "SD: 7.0\n",
      "\n"
     ]
    },
    {
     "data": {
      "text/plain": [
       "(0    7.2\n",
       " dtype: float64,\n",
       " 0    7.0\n",
       " dtype: float64,\n",
       " 0    3.544009\n",
       " dtype: float64)"
      ]
     },
     "execution_count": 16,
     "metadata": {},
     "output_type": "execute_result"
    }
   ],
   "source": [
    "import pandas as pd\n",
    "def do_homework_quickly(num_list):\n",
    "    df = pd.DataFrame(num_list)\n",
    "    mean = df.mean()\n",
    "    median = df.median()\n",
    "    sd = df.std(ddof=0)\n",
    "    print('mean: {}\\nmedian: \\nSD: {}\\n'.format(mean[0], median[0], sd[0]))\n",
    "    return(mean, median, sd)\n",
    "\n",
    "print(do_homework_quickly(test_scores))\n",
    "do_homework_quickly([51, 48, 47, 46, 45, 43, 41, 40, 40, 39])\n",
    "do_homework_quickly([11, 7, 14, 2, 8, 13, 3, 6, 10, 3, 8, 4, 8, 4, 7] )"
   ]
  },
  {
   "cell_type": "code",
   "execution_count": null,
   "id": "7e960d64",
   "metadata": {},
   "outputs": [],
   "source": []
  }
 ],
 "metadata": {
  "kernelspec": {
   "display_name": "Python 3 (ipykernel)",
   "language": "python",
   "name": "python3"
  },
  "language_info": {
   "codemirror_mode": {
    "name": "ipython",
    "version": 3
   },
   "file_extension": ".py",
   "mimetype": "text/x-python",
   "name": "python",
   "nbconvert_exporter": "python",
   "pygments_lexer": "ipython3",
   "version": "3.9.12"
  }
 },
 "nbformat": 4,
 "nbformat_minor": 5
}
